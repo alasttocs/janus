{
  "cells": [
    {
      "cell_type": "markdown",
      "metadata": {
        "id": "y9yWQ-LBw3jr"
      },
      "source": [
        "### Clone Repository\n",
        "\n",
        "Run the following command to load data from the `data-eng-interview` repo to your Colab working directory; importing this way will allow you to read the data without having to manually download & mount your personal Google drive."
      ]
    },
    {
      "cell_type": "code",
      "execution_count": null,
      "metadata": {
        "id": "EoSln0Sww3js"
      },
      "outputs": [],
      "source": [
        "!git clone https://github.com/JanusHealthInc/data-eng-interview.git"
      ]
    },
    {
      "cell_type": "markdown",
      "metadata": {
        "id": "3H2cMgrcw3js"
      },
      "source": [
        "### Install PySpark\n",
        "\n",
        "Run the below magic to install `pyspark` in the current kernel"
      ]
    },
    {
      "cell_type": "code",
      "execution_count": 8,
      "metadata": {
        "id": "3JAswid8w3js",
        "outputId": "3a9d1998-b3a6-498c-f5ff-79e543365f46",
        "colab": {
          "base_uri": "https://localhost:8080/"
        }
      },
      "outputs": [
        {
          "output_type": "stream",
          "name": "stdout",
          "text": [
            "Requirement already satisfied: pyspark in /usr/local/lib/python3.10/dist-packages (3.5.1)\n",
            "Requirement already satisfied: py4j==0.10.9.7 in /usr/local/lib/python3.10/dist-packages (from pyspark) (0.10.9.7)\n"
          ]
        }
      ],
      "source": [
        "%pip install pyspark"
      ]
    },
    {
      "cell_type": "markdown",
      "metadata": {
        "id": "d32_tMS_w3js"
      },
      "source": [
        "### Import Packages\n",
        "\n",
        "Please use `pyspark` as your main data package for this exercise. Feel free to import any other packages you deem necessary."
      ]
    },
    {
      "cell_type": "code",
      "execution_count": 35,
      "metadata": {
        "id": "ilPmZ1dww3js"
      },
      "outputs": [],
      "source": [
        "import os\n",
        "from pyspark.sql import SparkSession\n",
        "from pyspark.sql import functions as F\n",
        "from genericpath import isfile\n",
        "from posix import truncate\n",
        "from pyspark.sql.functions import col"
      ]
    },
    {
      "cell_type": "markdown",
      "metadata": {
        "id": "ibTf0MwJw3js"
      },
      "source": [
        "### Read Data\n",
        "\n",
        "Create dataframes for each of the files in the `data/` directory."
      ]
    },
    {
      "cell_type": "code",
      "execution_count": 13,
      "metadata": {
        "id": "jJpqf1gLw3js",
        "outputId": "2c3f3a73-af1d-4451-b24d-bdd7607d1061",
        "colab": {
          "base_uri": "https://localhost:8080/"
        }
      },
      "outputs": [
        {
          "output_type": "stream",
          "name": "stdout",
          "text": [
            "{'medals': DataFrame[Rank: int, Team/NOC: string, Gold: int, Silver: int, Bronze: int, Total: int, Rank by Total: int], 'teams': DataFrame[Name: string, Discipline: string, NOC: string, Event: string], 'coaches': DataFrame[Name: string, NOC: string, Discipline: string, Event: string], 'athletes': DataFrame[Name: string, NOC: string, Discipline: string]}\n"
          ]
        }
      ],
      "source": [
        "spark = SparkSession.builder.appName(\"janus\").getOrCreate()\n",
        "\n",
        "directory = \"data-eng-interview/data\"\n",
        "files = os.listdir(directory)\n",
        "dfs = {}\n",
        "\n",
        "for file_name in files:\n",
        "  file_path = os.path.join(directory, file_name)\n",
        "  if os.path.isfile(file_path):\n",
        "    df = (spark.read\n",
        "          .option(\"header\", True)\n",
        "          .option(\"inferSchema\", True)\n",
        "          .csv(file_path))\n",
        "    dfs[os.path.splitext(file_name)[0]] = df\n",
        "print(dfs)\n"
      ]
    },
    {
      "cell_type": "markdown",
      "metadata": {
        "id": "_nbFh8v0w3js"
      },
      "source": [
        "### EDA & Transformations\n",
        "\n",
        "- Get comfortable with the data by performing any data exploration you see fit\n",
        "    - Please come prepared with code samples to discuss your findings\n",
        "- Do any transformations you see fit to get the data ready for the final report below\n",
        "- Create a final report that includes the following attributes:\n",
        "    - Athlete name (in title case)\n",
        "    - Coach name (in title case)\n",
        "    - Team\n",
        "    - Country\n",
        "    - Number of Gold Medals"
      ]
    },
    {
      "cell_type": "code",
      "source": [
        "for key, value in dfs.items():\n",
        "  print(key)\n",
        "\n",
        "  null_records = value.filter(\n",
        "      sum(col(c).isNull().cast(\"integer\") for c in value.columns) > 0\n",
        "  )\n",
        "  null_records.show(null_records.count(), truncate=False)"
      ],
      "metadata": {
        "id": "nQb0W5MCB8pB",
        "outputId": "cea640a2-089d-47ae-8d04-e45667741120",
        "colab": {
          "base_uri": "https://localhost:8080/"
        }
      },
      "execution_count": 39,
      "outputs": [
        {
          "output_type": "stream",
          "name": "stdout",
          "text": [
            "medals\n",
            "+----+--------+----+------+------+-----+-------------+\n",
            "|Rank|Team/NOC|Gold|Silver|Bronze|Total|Rank by Total|\n",
            "+----+--------+----+------+------+-----+-------------+\n",
            "+----+--------+----+------+------+-----+-------------+\n",
            "\n",
            "teams\n",
            "+----+----------+---+-----+\n",
            "|Name|Discipline|NOC|Event|\n",
            "+----+----------+---+-----+\n",
            "+----+----------+---+-----+\n",
            "\n",
            "coaches\n",
            "+-----------------------------+--------------------------+-----------------+-----+\n",
            "|Name                         |NOC                       |Discipline       |Event|\n",
            "+-----------------------------+--------------------------+-----------------+-----+\n",
            "|ABDELMAGID Wael              |Egypt                     |Football         |NULL |\n",
            "|ABE Junya                    |Japan                     |Volleyball       |NULL |\n",
            "|ABE Katsuhiko                |Japan                     |Basketball       |NULL |\n",
            "|ADAMA Cherif                 |Côte d'Ivoire             |Football         |NULL |\n",
            "|AGEBA Yuya                   |Japan                     |Volleyball       |NULL |\n",
            "|ALLER CARBALLO Manuel Angel  |Spain                     |Basketball       |NULL |\n",
            "|ALY Kamal                    |Egypt                     |Football         |NULL |\n",
            "|AMAYA GAITAN Fabian          |Puerto Rico               |Basketball       |NULL |\n",
            "|AMO AGUADO Pablo             |Spain                     |Football         |NULL |\n",
            "|BACIU Horatiu                |Romania                   |Football         |NULL |\n",
            "|BANBULA Wojciech             |Poland                    |Volleyball       |NULL |\n",
            "|BAO Zhuang                   |People's Republic of China|Volleyball       |NULL |\n",
            "|BARYLA Pawel                 |ROC                       |Volleyball       |NULL |\n",
            "|BENCIC Filip                 |Serbia                    |Basketball       |NULL |\n",
            "|BOLTON Alice                 |Nigeria                   |Basketball       |NULL |\n",
            "|BREIVIK Marit                |Norway                    |Handball         |NULL |\n",
            "|BRUN Aristide                |Austria                   |Artistic Swimming|NULL |\n",
            "|BURLANDO Giovanna            |Italy                     |Artistic Swimming|NULL |\n",
            "|BUSENKELL Axel               |Germany                   |Football         |NULL |\n",
            "|CASTRO Alex                  |Chile                     |Football         |NULL |\n",
            "|CHAMBERS Cheryl              |Australia                 |Basketball       |NULL |\n",
            "|CHIARI Simona                |San Marino                |Artistic Swimming|NULL |\n",
            "|COMMENS Adam                 |Belgium                   |Hockey           |NULL |\n",
            "|CRESPI JAUME Margalida       |Colombia                  |Artistic Swimming|NULL |\n",
            "|DAZA Fabian                  |Chile                     |Football         |NULL |\n",
            "|de VOS Robbert-Jan           |Netherlands               |Hockey           |NULL |\n",
            "|DELANEY Mike                 |New Zealand               |Hockey           |NULL |\n",
            "|DIAZ FERNANDEZ Jenaro Manuel |Spain                     |Basketball       |NULL |\n",
            "|DIAZ HENRIQUEZ Nestor        |Dominican Republic        |Basketball       |NULL |\n",
            "|DIDENKO Natalia              |Spain                     |Artistic Swimming|NULL |\n",
            "|DORE Karine                  |Canada                    |Artistic Swimming|NULL |\n",
            "|DROBNJAK Dragisa             |Slovenia                  |Basketball       |NULL |\n",
            "|DURO Fernando                |Venezuela                 |Basketball       |NULL |\n",
            "|DYKSTRA Trisha               |Australia                 |Basketball       |NULL |\n",
            "|ECHEZURIA Manuel             |Venezuela                 |Basketball       |NULL |\n",
            "|EITOKU Atsushi               |Japan                     |Artistic Swimming|NULL |\n",
            "|ENGELLAND Chip               |United States of America  |Basketball       |NULL |\n",
            "|ENQUIST Susan                |United States of America  |Volleyball       |NULL |\n",
            "|FAHMY LATIF Yasmine          |Egypt                     |Artistic Swimming|NULL |\n",
            "|FAVAREL Pablo                |Venezuela                 |Basketball       |NULL |\n",
            "|FEDIUSHYNA Tetiana           |Ukraine                   |Artistic Swimming|NULL |\n",
            "|FOIREST Laurent              |France                    |Basketball       |NULL |\n",
            "|FUERBRINGER Matthew          |United States of America  |Volleyball       |NULL |\n",
            "|GARCIA Nestor                |Dominican Republic        |Basketball       |NULL |\n",
            "|GONZALEZ Anibal              |Mexico                    |Football         |NULL |\n",
            "|GONZALEZ JARENO Angel        |Spain                     |Basketball       |NULL |\n",
            "|GORDO MANSILLA Juan David    |Spain                     |Football         |NULL |\n",
            "|GRAINGER Adam                |Ireland                   |Hockey           |NULL |\n",
            "|GRAUPERA Cristina            |Greece                    |Artistic Swimming|NULL |\n",
            "|GRAZIOSI Gianluca            |Italy                     |Volleyball       |NULL |\n",
            "|GRESKOWIAK Arne              |Germany                   |Basketball       |NULL |\n",
            "|GUERRERO LOPEZ Julen         |Spain                     |Football         |NULL |\n",
            "|GUILLEN Ronald               |Venezuela                 |Basketball       |NULL |\n",
            "|HALD Simon                   |Denmark                   |Handball         |NULL |\n",
            "|HALKETT Rhett                |Netherlands               |Hockey           |NULL |\n",
            "|HAM Darvin de                |Nigeria                   |Basketball       |NULL |\n",
            "|HARDY William                |United States of America  |Basketball       |NULL |\n",
            "|HARVEY Laura                 |United States of America  |Football         |NULL |\n",
            "|HEM Thon Ponloeu             |Cambodia                  |Artistic Swimming|NULL |\n",
            "|HERNANDEZ FRAILE Jose Ignacio|Spain                     |Basketball       |NULL |\n",
            "|HIROSE Norikazu              |Japan                     |Football         |NULL |\n",
            "|HOLANEK Zoltan               |Hungary                   |Handball         |NULL |\n",
            "|HUGHES Daniel                |United States of America  |Basketball       |NULL |\n",
            "|IMURA Masayo                 |Japan                     |Artistic Swimming|NULL |\n",
            "|JENNINGS Dee                 |Australia                 |Hockey           |NULL |\n",
            "|JEROME Essapa                |Côte d'Ivoire             |Football         |NULL |\n",
            "|JIMENEZ NIETO Cecilia        |Spain                     |Artistic Swimming|NULL |\n",
            "|JOHNSON Vickie               |United States of America  |Basketball       |NULL |\n",
            "|KAISER Pierre                |Belgium                   |Basketball       |NULL |\n",
            "|KANUNGO Bergin               |Zambia                    |Football         |NULL |\n",
            "|KAWASE Asaki                 |Japan                     |Football         |NULL |\n",
            "|KAZAMA Takafumi              |Japan                     |Football         |NULL |\n",
            "|KIM Chanbin                  |Republic of Korea         |Football         |NULL |\n",
            "|KITABAYASHI Kenji            |Japan                     |Handball         |NULL |\n",
            "|KLARENBEEK Auke              |Netherlands               |Handball         |NULL |\n",
            "|KOFFI Anthony                |Côte d'Ivoire             |Football         |NULL |\n",
            "|KONSTANTINOV Aleksei         |ROC                       |Volleyball       |NULL |\n",
            "|KONTIC Svetlana              |Serbia                    |Artistic Swimming|NULL |\n",
            "|LAZARO CORRAL Jesus          |Spain                     |Basketball       |NULL |\n",
            "|LOPES BARBOSA Leonard        |Kenya                     |Volleyball       |NULL |\n",
            "|LOPEZ GUILLEN Melvyn         |Dominican Republic        |Basketball       |NULL |\n",
            "|LOPEZ Monica Susana          |Argentina                 |Artistic Swimming|NULL |\n",
            "|LOUCKS Luke                  |Nigeria                   |Basketball       |NULL |\n",
            "|MACEK Anze                   |Slovenia                  |Basketball       |NULL |\n",
            "|MAEDA Kenzo                  |Japan                     |Basketball       |NULL |\n",
            "|MAHLANGU Sibusiso            |South Africa              |Football         |NULL |\n",
            "|MANZANILLO Andres            |Venezuela                 |Volleyball       |NULL |\n",
            "|MARINELLI Fernando           |Chile                     |Football         |NULL |\n",
            "|MASHA Mario                  |South Africa              |Football         |NULL |\n",
            "|MATSUNO Yoshiyuki            |Japan                     |Basketball       |NULL |\n",
            "|MATSUODANI Yasushi           |Japan                     |Football         |NULL |\n",
            "|MAYBURY Elena                |United States of America  |Football         |NULL |\n",
            "|McCRORIE Christy             |South Africa              |Hockey           |NULL |\n",
            "|MEDINA Bobby                 |Nigeria                   |Basketball       |NULL |\n",
            "|MENGUAL CIVIL Gemma          |Spain                     |Artistic Swimming|NULL |\n",
            "|MERCEDES del ROSARIO Jose    |Dominican Republic        |Basketball       |NULL |\n",
            "|MEZIANE Rachid               |France                    |Basketball       |NULL |\n",
            "|MIREJOVSKY Michal            |Czech Republic            |Basketball       |NULL |\n",
            "|MIRET GARCIA Daniel          |Spain                     |Basketball       |NULL |\n",
            "|MIYAKAWA Miya                |Japan                     |Artistic Swimming|NULL |\n",
            "|MOHAMED Mai                  |Egypt                     |Artistic Swimming|NULL |\n",
            "|MOHAMED Sayeda               |Saudi Arabia              |Football         |NULL |\n",
            "|MOHAMMED Silifat             |Nigeria                   |Basketball       |NULL |\n",
            "|MULATI Adilijiang            |People's Republic of China|Basketball       |NULL |\n",
            "|NAGAE Shoji                  |Japan                     |Volleyball       |NULL |\n",
            "|NCUBE Mthandazo              |South Africa              |Football         |NULL |\n",
            "|NEVES Christophe             |Côte d'Ivoire             |Football         |NULL |\n",
            "|NISHIDA Takumi               |Japan                     |Rugby Sevens     |NULL |\n",
            "|ODAUDU Ogoh                  |Nigeria                   |Basketball       |NULL |\n",
            "|PAGAN CRISTOBAL Angel        |Puerto Rico               |Basketball       |NULL |\n",
            "|PANTOJA Hernan               |Venezuela                 |Volleyball       |NULL |\n",
            "|PECCI Isabella               |San Marino                |Artistic Swimming|NULL |\n",
            "|PEREZ Jose                   |Venezuela                 |Basketball       |NULL |\n",
            "|PIBIRI Rossella              |Italy                     |Artistic Swimming|NULL |\n",
            "|PISKAREVA Ekaterina          |ROC                       |Artistic Swimming|NULL |\n",
            "|PRADO BRANAS Joaquin         |Spain                     |Basketball       |NULL |\n",
            "|RILLIE John                  |Australia                 |Basketball       |NULL |\n",
            "|RODRIGUEZ Eduardo Rafael     |Argentina                 |Volleyball       |NULL |\n",
            "|SALAM Mohamed                |Egypt                     |Football         |NULL |\n",
            "|SCHILLING April              |Nigeria                   |Basketball       |NULL |\n",
            "|SHAHNAZI Shahbaz             |Austria                   |Artistic Swimming|NULL |\n",
            "|SIAM Zaghloul                |Egypt                     |Football         |NULL |\n",
            "|STANIFORTH Dave              |Australia                 |Hockey           |NULL |\n",
            "|STAS Jacques                 |Belgium                   |Basketball       |NULL |\n",
            "|SZAUDER Nora                 |Slovakia                  |Artistic Swimming|NULL |\n",
            "|TAGLE German                 |Chile                     |Football         |NULL |\n",
            "|TAKITA Risako                |Japan                     |Artistic Swimming|NULL |\n",
            "|TOMOMATSU Yumiko             |Italy                     |Artistic Swimming|NULL |\n",
            "|UDOKA Ime                    |United States of America  |Basketball       |NULL |\n",
            "|UTKIN Volodymyr              |Ukraine                   |Artistic Swimming|NULL |\n",
            "|van GUNDY Jeff               |United States of America  |Basketball       |NULL |\n",
            "|VASQUEZ Diego                |Venezuela                 |Basketball       |NULL |\n",
            "|VEGA HERRERO Anna            |Spain                     |Artistic Swimming|NULL |\n",
            "|VILLEGAS Orlando             |Venezuela                 |Volleyball       |NULL |\n",
            "|VITORINO de SOUZA Marcelo    |Kenya                     |Volleyball       |NULL |\n",
            "|WALL Michael                 |United States of America  |Volleyball       |NULL |\n",
            "|WIRTH Oscar                  |Chile                     |Football         |NULL |\n",
            "|WOELFLIN Roberto Osvaldo     |Argentina                 |Volleyball       |NULL |\n",
            "|WOICKI Pawel                 |Poland                    |Volleyball       |NULL |\n",
            "|WRIGHT Jerold                |United States of America  |Basketball       |NULL |\n",
            "|YUAN Lingxi                  |People's Republic of China|Volleyball       |NULL |\n",
            "|YURKIN Sergey                |ROC                       |Volleyball       |NULL |\n",
            "|ZAMORA PEDREIRA Javier       |Spain                     |Basketball       |NULL |\n",
            "|ZHANG Xiaohuan               |People's Republic of China|Artistic Swimming|NULL |\n",
            "|ZIJP Simon                   |Netherlands               |Hockey           |NULL |\n",
            "+-----------------------------+--------------------------+-----------------+-----+\n",
            "\n",
            "athletes\n",
            "+----+---+----------+\n",
            "|Name|NOC|Discipline|\n",
            "+----+---+----------+\n",
            "+----+---+----------+\n",
            "\n"
          ]
        }
      ]
    },
    {
      "cell_type": "markdown",
      "source": [
        "most records are complete, except event for coaches"
      ],
      "metadata": {
        "id": "tUaZE8gfFAfM"
      }
    },
    {
      "cell_type": "code",
      "execution_count": 14,
      "metadata": {
        "id": "eNkP6iquw3jt",
        "outputId": "220ce88c-a836-4a00-dc7b-bf12e23685c2",
        "colab": {
          "base_uri": "https://localhost:8080/"
        }
      },
      "outputs": [
        {
          "output_type": "stream",
          "name": "stdout",
          "text": [
            "medals\n",
            "+----+--------------------+----+------+------+-----+-------------+\n",
            "|Rank|            Team/NOC|Gold|Silver|Bronze|Total|Rank by Total|\n",
            "+----+--------------------+----+------+------+-----+-------------+\n",
            "|   1|United States of ...|  39|    41|    33|  113|            1|\n",
            "|   2|People's Republic...|  38|    32|    18|   88|            2|\n",
            "|   3|               Japan|  27|    14|    17|   58|            5|\n",
            "|   4|       Great Britain|  22|    21|    22|   65|            4|\n",
            "|   5|                 ROC|  20|    28|    23|   71|            3|\n",
            "|   6|           Australia|  17|     7|    22|   46|            6|\n",
            "|   7|         Netherlands|  10|    12|    14|   36|            9|\n",
            "|   8|              France|  10|    12|    11|   33|           10|\n",
            "|   9|             Germany|  10|    11|    16|   37|            8|\n",
            "|  10|               Italy|  10|    10|    20|   40|            7|\n",
            "|  11|              Canada|   7|     6|    11|   24|           11|\n",
            "|  12|              Brazil|   7|     6|     8|   21|           12|\n",
            "|  13|         New Zealand|   7|     6|     7|   20|           13|\n",
            "|  14|                Cuba|   7|     3|     5|   15|           18|\n",
            "|  15|             Hungary|   6|     7|     7|   20|           13|\n",
            "|  16|   Republic of Korea|   6|     4|    10|   20|           13|\n",
            "|  17|              Poland|   4|     5|     5|   14|           19|\n",
            "|  18|      Czech Republic|   4|     4|     3|   11|           23|\n",
            "|  19|               Kenya|   4|     4|     2|   10|           25|\n",
            "|  20|              Norway|   4|     2|     2|    8|           29|\n",
            "+----+--------------------+----+------+------+-----+-------------+\n",
            "only showing top 20 rows\n",
            "\n",
            "teams\n",
            "+-------------+--------------+--------------------+------------+\n",
            "|         Name|    Discipline|                 NOC|       Event|\n",
            "+-------------+--------------+--------------------+------------+\n",
            "|      Belgium|3x3 Basketball|             Belgium|         Men|\n",
            "|        China|3x3 Basketball|People's Republic...|         Men|\n",
            "|        China|3x3 Basketball|People's Republic...|       Women|\n",
            "|       France|3x3 Basketball|              France|       Women|\n",
            "|        Italy|3x3 Basketball|               Italy|       Women|\n",
            "|        Japan|3x3 Basketball|               Japan|         Men|\n",
            "|        Japan|3x3 Basketball|               Japan|       Women|\n",
            "|       Latvia|3x3 Basketball|              Latvia|         Men|\n",
            "|     Mongolia|3x3 Basketball|            Mongolia|       Women|\n",
            "|  Netherlands|3x3 Basketball|         Netherlands|         Men|\n",
            "|       Poland|3x3 Basketball|              Poland|         Men|\n",
            "|          ROC|3x3 Basketball|                 ROC|         Men|\n",
            "|          ROC|3x3 Basketball|                 ROC|       Women|\n",
            "|      Romania|3x3 Basketball|             Romania|       Women|\n",
            "|       Serbia|3x3 Basketball|              Serbia|         Men|\n",
            "|United States|3x3 Basketball|United States of ...|       Women|\n",
            "|    Australia|       Archery|           Australia|  Men's Team|\n",
            "|    Australia|       Archery|           Australia|  Mixed Team|\n",
            "|   Bangladesh|       Archery|          Bangladesh|  Mixed Team|\n",
            "|      Belarus|       Archery|             Belarus|Women's Team|\n",
            "+-------------+--------------+--------------------+------------+\n",
            "only showing top 20 rows\n",
            "\n",
            "coaches\n",
            "+--------------------+--------------------+-----------------+--------+\n",
            "|                Name|                 NOC|       Discipline|   Event|\n",
            "+--------------------+--------------------+-----------------+--------+\n",
            "|     ABDELMAGID Wael|               Egypt|         Football|    NULL|\n",
            "|           ABE Junya|               Japan|       Volleyball|    NULL|\n",
            "|       ABE Katsuhiko|               Japan|       Basketball|    NULL|\n",
            "|        ADAMA Cherif|       Côte d'Ivoire|         Football|    NULL|\n",
            "|          AGEBA Yuya|               Japan|       Volleyball|    NULL|\n",
            "|AIKMAN Siegfried ...|               Japan|           Hockey|     Men|\n",
            "|       AL SAADI Kais|             Germany|           Hockey|     Men|\n",
            "|       ALAMEDA Lonni|              Canada|Baseball/Softball|Softball|\n",
            "|     ALEKNO Vladimir|Islamic Republic ...|       Volleyball|     Men|\n",
            "|     ALEKSEEV Alexey|                 ROC|         Handball|   Women|\n",
            "|ALLER CARBALLO Ma...|               Spain|       Basketball|    NULL|\n",
            "|       ALSHEHRI Saad|        Saudi Arabia|         Football|     Men|\n",
            "|           ALY Kamal|               Egypt|         Football|    NULL|\n",
            "| AMAYA GAITAN Fabian|         Puerto Rico|       Basketball|    NULL|\n",
            "|    AMO AGUADO Pablo|               Spain|         Football|    NULL|\n",
            "|   ANDONOVSKI Vlatko|United States of ...|         Football|   Women|\n",
            "|        ANNAN Alyson|         Netherlands|           Hockey|   Women|\n",
            "|  ARNAU CREUS Xavier|               Japan|           Hockey|   Women|\n",
            "|       ARNOLD Graham|           Australia|         Football|     Men|\n",
            "|         AXNER Tomas|              Sweden|         Handball|   Women|\n",
            "+--------------------+--------------------+-----------------+--------+\n",
            "only showing top 20 rows\n",
            "\n",
            "athletes\n",
            "+--------------------+--------------------+-------------------+\n",
            "|                Name|                 NOC|         Discipline|\n",
            "+--------------------+--------------------+-------------------+\n",
            "|     AALERUD Katrine|              Norway|       Cycling Road|\n",
            "|         ABAD Nestor|               Spain|Artistic Gymnastics|\n",
            "|   ABAGNALE Giovanni|               Italy|             Rowing|\n",
            "|      ABALDE Alberto|               Spain|         Basketball|\n",
            "|       ABALDE Tamara|               Spain|         Basketball|\n",
            "|           ABALO Luc|              France|           Handball|\n",
            "|        ABAROA Cesar|               Chile|             Rowing|\n",
            "|       ABASS Abobakr|               Sudan|           Swimming|\n",
            "|    ABBASALI Hamideh|Islamic Republic ...|             Karate|\n",
            "|       ABBASOV Islam|          Azerbaijan|          Wrestling|\n",
            "|        ABBINGH Lois|         Netherlands|           Handball|\n",
            "|         ABBOT Emily|           Australia|Rhythmic Gymnastics|\n",
            "|       ABBOTT Monica|United States of ...|  Baseball/Softball|\n",
            "|ABDALLA Abubaker ...|               Qatar|          Athletics|\n",
            "|      ABDALLA Maryam|               Egypt|  Artistic Swimming|\n",
            "|      ABDALLAH Shahd|               Egypt|  Artistic Swimming|\n",
            "| ABDALRASOOL Mohamed|               Sudan|               Judo|\n",
            "|   ABDEL LATIF Radwa|               Egypt|           Shooting|\n",
            "|    ABDEL RAZEK Samy|               Egypt|           Shooting|\n",
            "|   ABDELAZIZ Abdalla|               Egypt|             Karate|\n",
            "+--------------------+--------------------+-------------------+\n",
            "only showing top 20 rows\n",
            "\n"
          ]
        }
      ],
      "source": [
        "for key, value in dfs.items():\n",
        "  print(key)\n",
        "  value.show()"
      ]
    },
    {
      "cell_type": "markdown",
      "source": [
        "Keys/Columns\n",
        "* teams.NOC\n",
        "  * athletes.NOC\n",
        "  * coaches.NOC\n",
        "  * medals.NOC\n",
        "* teams.discipline\n",
        " * athletes.discipline\n",
        " * coaches.discipline\n",
        "* teams.event\n",
        "  * coaches.event\n",
        "  "
      ],
      "metadata": {
        "id": "cS86mIOC1cjZ"
      }
    },
    {
      "cell_type": "code",
      "source": [
        "teams_noc_count = dfs['teams'].select(F.countDistinct(\"NOC\").alias(\"teams_NOC\"))\n",
        "athletes_noc_count = dfs['athletes'].select(F.countDistinct(\"NOC\").alias(\"athletes_NOC\"))\n",
        "coaches_noc_count = dfs['coaches'].select(F.countDistinct(\"NOC\").alias(\"coaches_NOC\"))\n",
        "medals_noc_count = dfs['medals'].select(F.countDistinct(\"Team/NOC\").alias(\"medals_NOC\"))\n",
        "\n",
        "all_counts = (teams_noc_count.crossJoin(athletes_noc_count)\n",
        "  .crossJoin(coaches_noc_count)\n",
        "  .crossJoin(medals_noc_count)).show()\n",
        ""
      ],
      "metadata": {
        "id": "iMZhZso81YEv",
        "outputId": "62a589f6-fb12-4a04-e6b2-a66ac066616b",
        "colab": {
          "base_uri": "https://localhost:8080/"
        }
      },
      "execution_count": 17,
      "outputs": [
        {
          "output_type": "stream",
          "name": "stdout",
          "text": [
            "+---------+------------+-----------+----------+\n",
            "|teams_NOC|athletes_NOC|coaches_NOC|medals_NOC|\n",
            "+---------+------------+-----------+----------+\n",
            "|       84|         206|         61|        93|\n",
            "+---------+------------+-----------+----------+\n",
            "\n"
          ]
        }
      ]
    },
    {
      "cell_type": "markdown",
      "source": [
        "Initially would have thought these would have been more similar\n",
        "* teams_NOC > coaches_NOC - some teams are missing coaches data (or don't have coaches\n",
        "* medeals_NOC > teams_NOC - some NOCs don't have team data (or perhaps some events are not considered to be a team event)\n",
        "  * perhaps there's missing individual ahtletes data?\n",
        "* athletes_NOC > medals_NOC - many countries do not appear on the medals table, perhaps only those that have won a medal. There's not an explicit/canonical list of NOCS\n"
      ],
      "metadata": {
        "id": "xx6Aev2g5d-5"
      }
    },
    {
      "cell_type": "code",
      "source": [
        "teams_wo_coach =(dfs['teams'].select(\"NOC\", \"Discipline\", \"Event\")\n",
        "  .join(dfs['coaches'],\n",
        "    (dfs['teams'][\"NOC\"] == dfs['coaches'][\"NOC\"]) &\n",
        "    (dfs['teams'][\"Discipline\"] == dfs['coaches'][\"Discipline\"]) &\n",
        "    (dfs['teams'][\"Event\"] == dfs['coaches'][\"Event\"]),\n",
        "    \"left_anti\")\n",
        "  .groupBy(\"Discipline\", \"Event\")\n",
        "  .count()\n",
        "  .orderBy(F.asc(\"count\")))\n",
        "teams_wo_coach.show(teams_wo_coach.count(), truncate=False)\n",
        "\n",
        "disc_wo_coach = (teams_wo_coach.select(\"Discipline\")\n",
        "  .distinct()\n",
        "  .join(dfs['coaches'],\n",
        "    teams_wo_coach[\"Discipline\"] == dfs['coaches'][\"Discipline\"],\n",
        "    \"left\")\n",
        "  .groupBy(teams_wo_coach[\"Discipline\"])\n",
        "  .count())\n",
        "disc_wo_coach.show(disc_wo_coach.count(), truncate=False)"
      ],
      "metadata": {
        "id": "QVtvcHBT6TSt",
        "outputId": "4f610388-bb66-41a9-b0df-3feda138dc19",
        "colab": {
          "base_uri": "https://localhost:8080/"
        }
      },
      "execution_count": 25,
      "outputs": [
        {
          "output_type": "stream",
          "name": "stdout",
          "text": [
            "+-------------------+--------------------------------+-----+\n",
            "|Discipline         |Event                           |count|\n",
            "+-------------------+--------------------------------+-----+\n",
            "|Artistic Swimming  |Team                            |1    |\n",
            "|Artistic Swimming  |Duet                            |2    |\n",
            "|Fencing            |Women's Épée Team               |8    |\n",
            "|Cycling Track      |Men's Team Pursuit              |8    |\n",
            "|3x3 Basketball     |Men                             |8    |\n",
            "|Cycling Track      |Women's Team Pursuit            |8    |\n",
            "|3x3 Basketball     |Women                           |8    |\n",
            "|Fencing            |Women's Foil Team               |8    |\n",
            "|Cycling Track      |Women's Team Sprint             |8    |\n",
            "|Cycling Track      |Men's Team Sprint               |8    |\n",
            "|Fencing            |Men's Épée Team                 |9    |\n",
            "|Fencing            |Women's Sabre Team              |9    |\n",
            "|Fencing            |Men's Sabre Team                |9    |\n",
            "|Fencing            |Men's Foil Team                 |9    |\n",
            "|Artistic Gymnastics|Men's Team                      |12   |\n",
            "|Archery            |Men's Team                      |12   |\n",
            "|Artistic Gymnastics|Women's Team                    |12   |\n",
            "|Archery            |Women's Team                    |12   |\n",
            "|Rhythmic Gymnastics|Group All-Around                |14   |\n",
            "|Athletics          |4 x 400m Relay Mixed            |15   |\n",
            "|Table Tennis       |Men's Team                      |16   |\n",
            "|Athletics          |Men's 4 x 400m Relay            |16   |\n",
            "|Table Tennis       |Women's Team                    |16   |\n",
            "|Table Tennis       |Mixed Doubles                   |16   |\n",
            "|Athletics          |Women's 4 x 400m Relay          |16   |\n",
            "|Swimming           |Women's 4 x 100m Medley Relay   |16   |\n",
            "|Swimming           |Women's 4 x 100m Freestyle Relay|16   |\n",
            "|Swimming           |Men's 4 x 200m Freestyle Relay  |16   |\n",
            "|Swimming           |Men's 4 x 100m Medley Relay     |16   |\n",
            "|Swimming           |Mixed 4 x 100m Medley Relay     |16   |\n",
            "|Athletics          |Men's 4 x 100m Relay            |16   |\n",
            "|Swimming           |Men's 4 x 100m Freestyle Relay  |16   |\n",
            "|Athletics          |Women's 4 x 100m Relay          |16   |\n",
            "|Cycling Track      |Women's Madison                 |16   |\n",
            "|Cycling Track      |Men's Madison                   |16   |\n",
            "|Swimming           |Women's 4 x 200m Freestyle Relay|17   |\n",
            "|Triathlon          |Mixed Relay                     |18   |\n",
            "|Beach Volleyball   |Men                             |24   |\n",
            "|Beach Volleyball   |Women                           |24   |\n",
            "|Archery            |Mixed Team                      |29   |\n",
            "+-------------------+--------------------------------+-----+\n",
            "\n",
            "+-------------------+-----+\n",
            "|Discipline         |count|\n",
            "+-------------------+-----+\n",
            "|Swimming           |1    |\n",
            "|Rhythmic Gymnastics|1    |\n",
            "|Triathlon          |1    |\n",
            "|Athletics          |1    |\n",
            "|Cycling Track      |1    |\n",
            "|Beach Volleyball   |1    |\n",
            "|Artistic Gymnastics|1    |\n",
            "|3x3 Basketball     |1    |\n",
            "|Table Tennis       |1    |\n",
            "|Archery            |1    |\n",
            "|Artistic Swimming  |69   |\n",
            "|Fencing            |1    |\n",
            "+-------------------+-----+\n",
            "\n"
          ]
        }
      ]
    },
    {
      "cell_type": "markdown",
      "source": [
        "Looks like there are some teams without coaches that are valid, and the artistic swimming example might be missing data"
      ],
      "metadata": {
        "id": "Mr5KeiG79lTx"
      }
    },
    {
      "cell_type": "code",
      "source": [
        "coach_wo_team = (dfs['coaches'].select(\"Name\", \"NOC\", \"Discipline\", \"Event\")\n",
        "  .join(dfs['teams'],\n",
        "    (dfs['teams'][\"NOC\"] == dfs['coaches'][\"NOC\"]) &\n",
        "    (dfs['teams'][\"Discipline\"] == dfs['coaches'][\"Discipline\"]) &\n",
        "    (dfs['teams'][\"Event\"] == dfs['coaches'][\"Event\"]),\n",
        "    \"left_anti\")\n",
        "  .orderBy(\"NOC\", \"Discipline\"))\n",
        "coach_wo_team.show(coach_wo_team.count(), truncate=False)"
      ],
      "metadata": {
        "id": "RTEr7DX298wm",
        "outputId": "7797b89b-05c2-47e5-ed14-dc149bf2c097",
        "colab": {
          "base_uri": "https://localhost:8080/"
        }
      },
      "execution_count": 26,
      "outputs": [
        {
          "output_type": "stream",
          "name": "stdout",
          "text": [
            "+-----------------------------+--------------------------+-----------------+-----+\n",
            "|Name                         |NOC                       |Discipline       |Event|\n",
            "+-----------------------------+--------------------------+-----------------+-----+\n",
            "|LOPEZ Monica Susana          |Argentina                 |Artistic Swimming|NULL |\n",
            "|RODRIGUEZ Eduardo Rafael     |Argentina                 |Volleyball       |NULL |\n",
            "|WOELFLIN Roberto Osvaldo     |Argentina                 |Volleyball       |NULL |\n",
            "|CHAMBERS Cheryl              |Australia                 |Basketball       |NULL |\n",
            "|DYKSTRA Trisha               |Australia                 |Basketball       |NULL |\n",
            "|RILLIE John                  |Australia                 |Basketball       |NULL |\n",
            "|JENNINGS Dee                 |Australia                 |Hockey           |NULL |\n",
            "|STANIFORTH Dave              |Australia                 |Hockey           |NULL |\n",
            "|BRUN Aristide                |Austria                   |Artistic Swimming|NULL |\n",
            "|SHAHNAZI Shahbaz             |Austria                   |Artistic Swimming|NULL |\n",
            "|KAISER Pierre                |Belgium                   |Basketball       |NULL |\n",
            "|STAS Jacques                 |Belgium                   |Basketball       |NULL |\n",
            "|COMMENS Adam                 |Belgium                   |Hockey           |NULL |\n",
            "|HEM Thon Ponloeu             |Cambodia                  |Artistic Swimming|NULL |\n",
            "|DORE Karine                  |Canada                    |Artistic Swimming|NULL |\n",
            "|CASTRO Alex                  |Chile                     |Football         |NULL |\n",
            "|DAZA Fabian                  |Chile                     |Football         |NULL |\n",
            "|MARINELLI Fernando           |Chile                     |Football         |NULL |\n",
            "|TAGLE German                 |Chile                     |Football         |NULL |\n",
            "|WIRTH Oscar                  |Chile                     |Football         |NULL |\n",
            "|CRESPI JAUME Margalida       |Colombia                  |Artistic Swimming|NULL |\n",
            "|MIREJOVSKY Michal            |Czech Republic            |Basketball       |NULL |\n",
            "|ADAMA Cherif                 |Côte d'Ivoire             |Football         |NULL |\n",
            "|JEROME Essapa                |Côte d'Ivoire             |Football         |NULL |\n",
            "|KOFFI Anthony                |Côte d'Ivoire             |Football         |NULL |\n",
            "|NEVES Christophe             |Côte d'Ivoire             |Football         |NULL |\n",
            "|HALD Simon                   |Denmark                   |Handball         |NULL |\n",
            "|DIAZ HENRIQUEZ Nestor        |Dominican Republic        |Basketball       |NULL |\n",
            "|GARCIA Nestor                |Dominican Republic        |Basketball       |NULL |\n",
            "|LOPEZ GUILLEN Melvyn         |Dominican Republic        |Basketball       |NULL |\n",
            "|MERCEDES del ROSARIO Jose    |Dominican Republic        |Basketball       |NULL |\n",
            "|FAHMY LATIF Yasmine          |Egypt                     |Artistic Swimming|NULL |\n",
            "|MOHAMED Mai                  |Egypt                     |Artistic Swimming|NULL |\n",
            "|ABDELMAGID Wael              |Egypt                     |Football         |NULL |\n",
            "|ALY Kamal                    |Egypt                     |Football         |NULL |\n",
            "|SALAM Mohamed                |Egypt                     |Football         |NULL |\n",
            "|SIAM Zaghloul                |Egypt                     |Football         |NULL |\n",
            "|FOIREST Laurent              |France                    |Basketball       |NULL |\n",
            "|MEZIANE Rachid               |France                    |Basketball       |NULL |\n",
            "|GRESKOWIAK Arne              |Germany                   |Basketball       |NULL |\n",
            "|BUSENKELL Axel               |Germany                   |Football         |NULL |\n",
            "|GRAUPERA Cristina            |Greece                    |Artistic Swimming|NULL |\n",
            "|HOLANEK Zoltan               |Hungary                   |Handball         |NULL |\n",
            "|GRAINGER Adam                |Ireland                   |Hockey           |NULL |\n",
            "|BURLANDO Giovanna            |Italy                     |Artistic Swimming|NULL |\n",
            "|PIBIRI Rossella              |Italy                     |Artistic Swimming|NULL |\n",
            "|TOMOMATSU Yumiko             |Italy                     |Artistic Swimming|NULL |\n",
            "|GRAZIOSI Gianluca            |Italy                     |Volleyball       |NULL |\n",
            "|EITOKU Atsushi               |Japan                     |Artistic Swimming|NULL |\n",
            "|IMURA Masayo                 |Japan                     |Artistic Swimming|NULL |\n",
            "|MIYAKAWA Miya                |Japan                     |Artistic Swimming|NULL |\n",
            "|TAKITA Risako                |Japan                     |Artistic Swimming|NULL |\n",
            "|ABE Katsuhiko                |Japan                     |Basketball       |NULL |\n",
            "|MAEDA Kenzo                  |Japan                     |Basketball       |NULL |\n",
            "|MATSUNO Yoshiyuki            |Japan                     |Basketball       |NULL |\n",
            "|HIROSE Norikazu              |Japan                     |Football         |NULL |\n",
            "|KAWASE Asaki                 |Japan                     |Football         |NULL |\n",
            "|KAZAMA Takafumi              |Japan                     |Football         |NULL |\n",
            "|MATSUODANI Yasushi           |Japan                     |Football         |NULL |\n",
            "|KITABAYASHI Kenji            |Japan                     |Handball         |NULL |\n",
            "|NISHIDA Takumi               |Japan                     |Rugby Sevens     |NULL |\n",
            "|ABE Junya                    |Japan                     |Volleyball       |NULL |\n",
            "|AGEBA Yuya                   |Japan                     |Volleyball       |NULL |\n",
            "|NAGAE Shoji                  |Japan                     |Volleyball       |NULL |\n",
            "|LOPES BARBOSA Leonard        |Kenya                     |Volleyball       |NULL |\n",
            "|VITORINO de SOUZA Marcelo    |Kenya                     |Volleyball       |NULL |\n",
            "|GONZALEZ Anibal              |Mexico                    |Football         |NULL |\n",
            "|KLARENBEEK Auke              |Netherlands               |Handball         |NULL |\n",
            "|de VOS Robbert-Jan           |Netherlands               |Hockey           |NULL |\n",
            "|HALKETT Rhett                |Netherlands               |Hockey           |NULL |\n",
            "|ZIJP Simon                   |Netherlands               |Hockey           |NULL |\n",
            "|DELANEY Mike                 |New Zealand               |Hockey           |NULL |\n",
            "|BOLTON Alice                 |Nigeria                   |Basketball       |NULL |\n",
            "|HAM Darvin de                |Nigeria                   |Basketball       |NULL |\n",
            "|LOUCKS Luke                  |Nigeria                   |Basketball       |NULL |\n",
            "|MEDINA Bobby                 |Nigeria                   |Basketball       |NULL |\n",
            "|MOHAMMED Silifat             |Nigeria                   |Basketball       |NULL |\n",
            "|ODAUDU Ogoh                  |Nigeria                   |Basketball       |NULL |\n",
            "|SCHILLING April              |Nigeria                   |Basketball       |NULL |\n",
            "|BREIVIK Marit                |Norway                    |Handball         |NULL |\n",
            "|ZHANG Xiaohuan               |People's Republic of China|Artistic Swimming|NULL |\n",
            "|MULATI Adilijiang            |People's Republic of China|Basketball       |NULL |\n",
            "|BAO Zhuang                   |People's Republic of China|Volleyball       |NULL |\n",
            "|YUAN Lingxi                  |People's Republic of China|Volleyball       |NULL |\n",
            "|BANBULA Wojciech             |Poland                    |Volleyball       |NULL |\n",
            "|WOICKI Pawel                 |Poland                    |Volleyball       |NULL |\n",
            "|AMAYA GAITAN Fabian          |Puerto Rico               |Basketball       |NULL |\n",
            "|PAGAN CRISTOBAL Angel        |Puerto Rico               |Basketball       |NULL |\n",
            "|PISKAREVA Ekaterina          |ROC                       |Artistic Swimming|NULL |\n",
            "|BARYLA Pawel                 |ROC                       |Volleyball       |NULL |\n",
            "|KONSTANTINOV Aleksei         |ROC                       |Volleyball       |NULL |\n",
            "|YURKIN Sergey                |ROC                       |Volleyball       |NULL |\n",
            "|KIM Chanbin                  |Republic of Korea         |Football         |NULL |\n",
            "|BACIU Horatiu                |Romania                   |Football         |NULL |\n",
            "|CHIARI Simona                |San Marino                |Artistic Swimming|NULL |\n",
            "|PECCI Isabella               |San Marino                |Artistic Swimming|NULL |\n",
            "|MOHAMED Sayeda               |Saudi Arabia              |Football         |NULL |\n",
            "|KONTIC Svetlana              |Serbia                    |Artistic Swimming|NULL |\n",
            "|BENCIC Filip                 |Serbia                    |Basketball       |NULL |\n",
            "|SZAUDER Nora                 |Slovakia                  |Artistic Swimming|NULL |\n",
            "|DROBNJAK Dragisa             |Slovenia                  |Basketball       |NULL |\n",
            "|MACEK Anze                   |Slovenia                  |Basketball       |NULL |\n",
            "|MAHLANGU Sibusiso            |South Africa              |Football         |NULL |\n",
            "|MASHA Mario                  |South Africa              |Football         |NULL |\n",
            "|NCUBE Mthandazo              |South Africa              |Football         |NULL |\n",
            "|McCRORIE Christy             |South Africa              |Hockey           |NULL |\n",
            "|DIDENKO Natalia              |Spain                     |Artistic Swimming|NULL |\n",
            "|JIMENEZ NIETO Cecilia        |Spain                     |Artistic Swimming|NULL |\n",
            "|MENGUAL CIVIL Gemma          |Spain                     |Artistic Swimming|NULL |\n",
            "|VEGA HERRERO Anna            |Spain                     |Artistic Swimming|NULL |\n",
            "|ALLER CARBALLO Manuel Angel  |Spain                     |Basketball       |NULL |\n",
            "|DIAZ FERNANDEZ Jenaro Manuel |Spain                     |Basketball       |NULL |\n",
            "|GONZALEZ JARENO Angel        |Spain                     |Basketball       |NULL |\n",
            "|HERNANDEZ FRAILE Jose Ignacio|Spain                     |Basketball       |NULL |\n",
            "|LAZARO CORRAL Jesus          |Spain                     |Basketball       |NULL |\n",
            "|MIRET GARCIA Daniel          |Spain                     |Basketball       |NULL |\n",
            "|PRADO BRANAS Joaquin         |Spain                     |Basketball       |NULL |\n",
            "|ZAMORA PEDREIRA Javier       |Spain                     |Basketball       |NULL |\n",
            "|AMO AGUADO Pablo             |Spain                     |Football         |NULL |\n",
            "|GORDO MANSILLA Juan David    |Spain                     |Football         |NULL |\n",
            "|GUERRERO LOPEZ Julen         |Spain                     |Football         |NULL |\n",
            "|FEDIUSHYNA Tetiana           |Ukraine                   |Artistic Swimming|NULL |\n",
            "|UTKIN Volodymyr              |Ukraine                   |Artistic Swimming|NULL |\n",
            "|ENGELLAND Chip               |United States of America  |Basketball       |NULL |\n",
            "|HARDY William                |United States of America  |Basketball       |NULL |\n",
            "|HUGHES Daniel                |United States of America  |Basketball       |NULL |\n",
            "|JOHNSON Vickie               |United States of America  |Basketball       |NULL |\n",
            "|UDOKA Ime                    |United States of America  |Basketball       |NULL |\n",
            "|van GUNDY Jeff               |United States of America  |Basketball       |NULL |\n",
            "|WRIGHT Jerold                |United States of America  |Basketball       |NULL |\n",
            "|HARVEY Laura                 |United States of America  |Football         |NULL |\n",
            "|MAYBURY Elena                |United States of America  |Football         |NULL |\n",
            "|ENQUIST Susan                |United States of America  |Volleyball       |NULL |\n",
            "|FUERBRINGER Matthew          |United States of America  |Volleyball       |NULL |\n",
            "|WALL Michael                 |United States of America  |Volleyball       |NULL |\n",
            "|DURO Fernando                |Venezuela                 |Basketball       |NULL |\n",
            "|ECHEZURIA Manuel             |Venezuela                 |Basketball       |NULL |\n",
            "|FAVAREL Pablo                |Venezuela                 |Basketball       |NULL |\n",
            "|GUILLEN Ronald               |Venezuela                 |Basketball       |NULL |\n",
            "|PEREZ Jose                   |Venezuela                 |Basketball       |NULL |\n",
            "|VASQUEZ Diego                |Venezuela                 |Basketball       |NULL |\n",
            "|MANZANILLO Andres            |Venezuela                 |Volleyball       |NULL |\n",
            "|PANTOJA Hernan               |Venezuela                 |Volleyball       |NULL |\n",
            "|VILLEGAS Orlando             |Venezuela                 |Volleyball       |NULL |\n",
            "|KANUNGO Bergin               |Zambia                    |Football         |NULL |\n",
            "+-----------------------------+--------------------------+-----------------+-----+\n",
            "\n"
          ]
        }
      ]
    },
    {
      "cell_type": "markdown",
      "source": [
        "There are many examples where the event is missing from the coach record  "
      ],
      "metadata": {
        "id": "jF59mKv__EdF"
      }
    },
    {
      "cell_type": "code",
      "source": [
        "teams_disc_count = dfs['teams'].select(F.countDistinct(\"Discipline\").alias(\"teams_disc\"))\n",
        "athletes_disc_count = dfs['athletes'].select(F.countDistinct(\"Discipline\").alias(\"athletes_disc\"))\n",
        "coaches_disc_count = dfs['coaches'].select(F.countDistinct(\"Discipline\").alias(\"coaches_disc\"))\n",
        "\n",
        "all_counts = (teams_disc_count.crossJoin(athletes_disc_count).crossJoin(coaches_disc_count)).show()"
      ],
      "metadata": {
        "id": "GW9wnK2Z_WiI",
        "outputId": "0a4e6a17-63fb-46d5-c92e-fa14d067201f",
        "colab": {
          "base_uri": "https://localhost:8080/"
        }
      },
      "execution_count": 29,
      "outputs": [
        {
          "output_type": "stream",
          "name": "stdout",
          "text": [
            "+----------+-------------+------------+\n",
            "|teams_disc|athletes_disc|coaches_disc|\n",
            "+----------+-------------+------------+\n",
            "|        20|           46|           9|\n",
            "+----------+-------------+------------+\n",
            "\n"
          ]
        }
      ]
    },
    {
      "cell_type": "markdown",
      "source": [
        "* there are likely 26 individual disciplines\n",
        "* 11 disciplines don't have coaches which matches above\n",
        "* 46 total disciplines"
      ],
      "metadata": {
        "id": "atGXN5L1A5aY"
      }
    },
    {
      "cell_type": "code",
      "source": [],
      "metadata": {
        "id": "nn-aKCMxBStp"
      },
      "execution_count": null,
      "outputs": []
    }
  ],
  "metadata": {
    "kernelspec": {
      "display_name": "Python 3",
      "language": "python",
      "name": "python3"
    },
    "language_info": {
      "name": "python",
      "version": "3.8.2 (default, Apr  8 2021, 23:19:18) \n[Clang 12.0.5 (clang-1205.0.22.9)]"
    },
    "vscode": {
      "interpreter": {
        "hash": "31f2aee4e71d21fbe5cf8b01ff0e069b9275f58929596ceb00d14d90e3e16cd6"
      }
    },
    "colab": {
      "provenance": []
    }
  },
  "nbformat": 4,
  "nbformat_minor": 0
}